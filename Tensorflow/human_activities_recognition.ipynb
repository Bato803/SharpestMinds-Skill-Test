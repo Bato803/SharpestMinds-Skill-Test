{
  "nbformat": 4,
  "nbformat_minor": 0,
  "metadata": {
    "colab": {
      "name": "human_activities_recognition",
      "version": "0.3.2",
      "views": {},
      "default_view": {},
      "provenance": [],
      "collapsed_sections": [],
      "toc_visible": true
    },
    "kernelspec": {
      "name": "python3",
      "display_name": "Python 3"
    },
    "accelerator": "GPU"
  },
  "cells": [
    {
      "metadata": {
        "id": "gyHn9ts53Q9w",
        "colab_type": "toc"
      },
      "cell_type": "markdown",
      "source": [
        ">[Human Activities Recognition with Smart Phone (Tensorflow)](#scrollTo=2I3wx4Xjw8lZ)\n",
        "\n",
        ">>[Import Libraries and dataset](#scrollTo=luKZZT--2p_1)\n",
        "\n",
        ">>[Preprocessing](#scrollTo=agAIVRrK1YjO)\n",
        "\n",
        ">>[KMeans cluster](#scrollTo=QMjiaaSO-V_d)\n",
        "\n",
        ">>>[Randomly assign initial clusters](#scrollTo=CYzOoVM1X7JT)\n",
        "\n",
        ">>>[Assgin each sample to its nearest centroid](#scrollTo=uoJtruHnYTYZ)\n",
        "\n",
        ">>>[Get new centroids by averaging out the assignment.](#scrollTo=n7_PSZNPYjrm)\n",
        "\n",
        ">>>[Run the K-means algorithm](#scrollTo=TRTkYNh1XSeg)\n",
        "\n",
        ">>[Neural Network Model](#scrollTo=iMMU9e4Tfcrd)\n",
        "\n",
        ">>>[Network Object](#scrollTo=g3vx29ZNuWTN)\n",
        "\n",
        ">>>[Data Object](#scrollTo=TidZ8CX1ub6T)\n",
        "\n",
        ">>>[Training object](#scrollTo=OJq26PR9ueu9)\n",
        "\n"
      ]
    },
    {
      "metadata": {
        "id": "2I3wx4Xjw8lZ",
        "colab_type": "text"
      },
      "cell_type": "markdown",
      "source": [
        "# Human Activities Recognition with Smart Phone (Tensorflow) "
      ]
    },
    {
      "metadata": {
        "id": "U2ZgzYhAvXP0",
        "colab_type": "text"
      },
      "cell_type": "markdown",
      "source": [
        "This notebook is created for the tensorflow skill test of [SharpestMinds](https://www.sharpestminds.com/)\n",
        "\n",
        "Here is my [LinkedIn](https://www.linkedin.com/in/botao-deng-9a632a104/), and I'm open to connection. Feel free to connect, and if you have any question or suggestion with regard to this notebook. Please send me messge or comment below. Thanks."
      ]
    },
    {
      "metadata": {
        "id": "luKZZT--2p_1",
        "colab_type": "text"
      },
      "cell_type": "markdown",
      "source": [
        "## Import Libraries and dataset"
      ]
    },
    {
      "metadata": {
        "id": "2YBUhL-nxhIq",
        "colab_type": "code",
        "colab": {
          "autoexec": {
            "startup": false,
            "wait_interval": 0
          }
        }
      },
      "cell_type": "code",
      "source": [
        "import pandas as pd\n",
        "import numpy as np\n",
        "import tensorflow as tf\n",
        "import matplotlib.pyplot as plt\n",
        "import pdb\n",
        "%matplotlib inline"
      ],
      "execution_count": 0,
      "outputs": []
    },
    {
      "metadata": {
        "id": "q4Zu7MYyyO3z",
        "colab_type": "code",
        "colab": {
          "autoexec": {
            "startup": false,
            "wait_interval": 0
          }
        }
      },
      "cell_type": "code",
      "source": [
        "train = pd.read_csv(\"drive/udacity/human-activity-recognition-with-smartphones/train.csv\") # (7352, 563)\n",
        "test = pd.read_csv(\"drive/udacity/human-activity-recognition-with-smartphones/test.csv\") # (2947, 563)"
      ],
      "execution_count": 0,
      "outputs": []
    },
    {
      "metadata": {
        "id": "12hoeIHbyS_q",
        "colab_type": "code",
        "colab": {
          "autoexec": {
            "startup": false,
            "wait_interval": 0
          },
          "output_extras": [
            {
              "item_id": 1
            }
          ],
          "base_uri": "https://localhost:8080/",
          "height": 270
        },
        "outputId": "9a793379-5aea-49ea-b7dc-a001714a5506",
        "executionInfo": {
          "status": "ok",
          "timestamp": 1517963745890,
          "user_tz": 300,
          "elapsed": 291,
          "user": {
            "displayName": "Botao Deng",
            "photoUrl": "//lh4.googleusercontent.com/-e7SiulTUtZ4/AAAAAAAAAAI/AAAAAAAAAVU/sMRkL4UGYyE/s50-c-k-no/photo.jpg",
            "userId": "112553689025425246876"
          }
        }
      },
      "cell_type": "code",
      "source": [
        "train.head()"
      ],
      "execution_count": 3,
      "outputs": [
        {
          "output_type": "execute_result",
          "data": {
            "text/html": [
              "<div>\n",
              "<style scoped>\n",
              "    .dataframe tbody tr th:only-of-type {\n",
              "        vertical-align: middle;\n",
              "    }\n",
              "\n",
              "    .dataframe tbody tr th {\n",
              "        vertical-align: top;\n",
              "    }\n",
              "\n",
              "    .dataframe thead th {\n",
              "        text-align: right;\n",
              "    }\n",
              "</style>\n",
              "<table border=\"1\" class=\"dataframe\">\n",
              "  <thead>\n",
              "    <tr style=\"text-align: right;\">\n",
              "      <th></th>\n",
              "      <th>tBodyAcc-mean()-X</th>\n",
              "      <th>tBodyAcc-mean()-Y</th>\n",
              "      <th>tBodyAcc-mean()-Z</th>\n",
              "      <th>tBodyAcc-std()-X</th>\n",
              "      <th>tBodyAcc-std()-Y</th>\n",
              "      <th>tBodyAcc-std()-Z</th>\n",
              "      <th>tBodyAcc-mad()-X</th>\n",
              "      <th>tBodyAcc-mad()-Y</th>\n",
              "      <th>tBodyAcc-mad()-Z</th>\n",
              "      <th>tBodyAcc-max()-X</th>\n",
              "      <th>...</th>\n",
              "      <th>fBodyBodyGyroJerkMag-kurtosis()</th>\n",
              "      <th>angle(tBodyAccMean,gravity)</th>\n",
              "      <th>angle(tBodyAccJerkMean),gravityMean)</th>\n",
              "      <th>angle(tBodyGyroMean,gravityMean)</th>\n",
              "      <th>angle(tBodyGyroJerkMean,gravityMean)</th>\n",
              "      <th>angle(X,gravityMean)</th>\n",
              "      <th>angle(Y,gravityMean)</th>\n",
              "      <th>angle(Z,gravityMean)</th>\n",
              "      <th>subject</th>\n",
              "      <th>Activity</th>\n",
              "    </tr>\n",
              "  </thead>\n",
              "  <tbody>\n",
              "    <tr>\n",
              "      <th>0</th>\n",
              "      <td>0.288585</td>\n",
              "      <td>-0.020294</td>\n",
              "      <td>-0.132905</td>\n",
              "      <td>-0.995279</td>\n",
              "      <td>-0.983111</td>\n",
              "      <td>-0.913526</td>\n",
              "      <td>-0.995112</td>\n",
              "      <td>-0.983185</td>\n",
              "      <td>-0.923527</td>\n",
              "      <td>-0.934724</td>\n",
              "      <td>...</td>\n",
              "      <td>-0.710304</td>\n",
              "      <td>-0.112754</td>\n",
              "      <td>0.030400</td>\n",
              "      <td>-0.464761</td>\n",
              "      <td>-0.018446</td>\n",
              "      <td>-0.841247</td>\n",
              "      <td>0.179941</td>\n",
              "      <td>-0.058627</td>\n",
              "      <td>1</td>\n",
              "      <td>STANDING</td>\n",
              "    </tr>\n",
              "    <tr>\n",
              "      <th>1</th>\n",
              "      <td>0.278419</td>\n",
              "      <td>-0.016411</td>\n",
              "      <td>-0.123520</td>\n",
              "      <td>-0.998245</td>\n",
              "      <td>-0.975300</td>\n",
              "      <td>-0.960322</td>\n",
              "      <td>-0.998807</td>\n",
              "      <td>-0.974914</td>\n",
              "      <td>-0.957686</td>\n",
              "      <td>-0.943068</td>\n",
              "      <td>...</td>\n",
              "      <td>-0.861499</td>\n",
              "      <td>0.053477</td>\n",
              "      <td>-0.007435</td>\n",
              "      <td>-0.732626</td>\n",
              "      <td>0.703511</td>\n",
              "      <td>-0.844788</td>\n",
              "      <td>0.180289</td>\n",
              "      <td>-0.054317</td>\n",
              "      <td>1</td>\n",
              "      <td>STANDING</td>\n",
              "    </tr>\n",
              "    <tr>\n",
              "      <th>2</th>\n",
              "      <td>0.279653</td>\n",
              "      <td>-0.019467</td>\n",
              "      <td>-0.113462</td>\n",
              "      <td>-0.995380</td>\n",
              "      <td>-0.967187</td>\n",
              "      <td>-0.978944</td>\n",
              "      <td>-0.996520</td>\n",
              "      <td>-0.963668</td>\n",
              "      <td>-0.977469</td>\n",
              "      <td>-0.938692</td>\n",
              "      <td>...</td>\n",
              "      <td>-0.760104</td>\n",
              "      <td>-0.118559</td>\n",
              "      <td>0.177899</td>\n",
              "      <td>0.100699</td>\n",
              "      <td>0.808529</td>\n",
              "      <td>-0.848933</td>\n",
              "      <td>0.180637</td>\n",
              "      <td>-0.049118</td>\n",
              "      <td>1</td>\n",
              "      <td>STANDING</td>\n",
              "    </tr>\n",
              "    <tr>\n",
              "      <th>3</th>\n",
              "      <td>0.279174</td>\n",
              "      <td>-0.026201</td>\n",
              "      <td>-0.123283</td>\n",
              "      <td>-0.996091</td>\n",
              "      <td>-0.983403</td>\n",
              "      <td>-0.990675</td>\n",
              "      <td>-0.997099</td>\n",
              "      <td>-0.982750</td>\n",
              "      <td>-0.989302</td>\n",
              "      <td>-0.938692</td>\n",
              "      <td>...</td>\n",
              "      <td>-0.482845</td>\n",
              "      <td>-0.036788</td>\n",
              "      <td>-0.012892</td>\n",
              "      <td>0.640011</td>\n",
              "      <td>-0.485366</td>\n",
              "      <td>-0.848649</td>\n",
              "      <td>0.181935</td>\n",
              "      <td>-0.047663</td>\n",
              "      <td>1</td>\n",
              "      <td>STANDING</td>\n",
              "    </tr>\n",
              "    <tr>\n",
              "      <th>4</th>\n",
              "      <td>0.276629</td>\n",
              "      <td>-0.016570</td>\n",
              "      <td>-0.115362</td>\n",
              "      <td>-0.998139</td>\n",
              "      <td>-0.980817</td>\n",
              "      <td>-0.990482</td>\n",
              "      <td>-0.998321</td>\n",
              "      <td>-0.979672</td>\n",
              "      <td>-0.990441</td>\n",
              "      <td>-0.942469</td>\n",
              "      <td>...</td>\n",
              "      <td>-0.699205</td>\n",
              "      <td>0.123320</td>\n",
              "      <td>0.122542</td>\n",
              "      <td>0.693578</td>\n",
              "      <td>-0.615971</td>\n",
              "      <td>-0.847865</td>\n",
              "      <td>0.185151</td>\n",
              "      <td>-0.043892</td>\n",
              "      <td>1</td>\n",
              "      <td>STANDING</td>\n",
              "    </tr>\n",
              "  </tbody>\n",
              "</table>\n",
              "<p>5 rows × 563 columns</p>\n",
              "</div>"
            ],
            "text/plain": [
              "   tBodyAcc-mean()-X  tBodyAcc-mean()-Y  tBodyAcc-mean()-Z  tBodyAcc-std()-X  \\\n",
              "0           0.288585          -0.020294          -0.132905         -0.995279   \n",
              "1           0.278419          -0.016411          -0.123520         -0.998245   \n",
              "2           0.279653          -0.019467          -0.113462         -0.995380   \n",
              "3           0.279174          -0.026201          -0.123283         -0.996091   \n",
              "4           0.276629          -0.016570          -0.115362         -0.998139   \n",
              "\n",
              "   tBodyAcc-std()-Y  tBodyAcc-std()-Z  tBodyAcc-mad()-X  tBodyAcc-mad()-Y  \\\n",
              "0         -0.983111         -0.913526         -0.995112         -0.983185   \n",
              "1         -0.975300         -0.960322         -0.998807         -0.974914   \n",
              "2         -0.967187         -0.978944         -0.996520         -0.963668   \n",
              "3         -0.983403         -0.990675         -0.997099         -0.982750   \n",
              "4         -0.980817         -0.990482         -0.998321         -0.979672   \n",
              "\n",
              "   tBodyAcc-mad()-Z  tBodyAcc-max()-X    ...     \\\n",
              "0         -0.923527         -0.934724    ...      \n",
              "1         -0.957686         -0.943068    ...      \n",
              "2         -0.977469         -0.938692    ...      \n",
              "3         -0.989302         -0.938692    ...      \n",
              "4         -0.990441         -0.942469    ...      \n",
              "\n",
              "   fBodyBodyGyroJerkMag-kurtosis()  angle(tBodyAccMean,gravity)  \\\n",
              "0                        -0.710304                    -0.112754   \n",
              "1                        -0.861499                     0.053477   \n",
              "2                        -0.760104                    -0.118559   \n",
              "3                        -0.482845                    -0.036788   \n",
              "4                        -0.699205                     0.123320   \n",
              "\n",
              "   angle(tBodyAccJerkMean),gravityMean)  angle(tBodyGyroMean,gravityMean)  \\\n",
              "0                              0.030400                         -0.464761   \n",
              "1                             -0.007435                         -0.732626   \n",
              "2                              0.177899                          0.100699   \n",
              "3                             -0.012892                          0.640011   \n",
              "4                              0.122542                          0.693578   \n",
              "\n",
              "   angle(tBodyGyroJerkMean,gravityMean)  angle(X,gravityMean)  \\\n",
              "0                             -0.018446             -0.841247   \n",
              "1                              0.703511             -0.844788   \n",
              "2                              0.808529             -0.848933   \n",
              "3                             -0.485366             -0.848649   \n",
              "4                             -0.615971             -0.847865   \n",
              "\n",
              "   angle(Y,gravityMean)  angle(Z,gravityMean)  subject  Activity  \n",
              "0              0.179941             -0.058627        1  STANDING  \n",
              "1              0.180289             -0.054317        1  STANDING  \n",
              "2              0.180637             -0.049118        1  STANDING  \n",
              "3              0.181935             -0.047663        1  STANDING  \n",
              "4              0.185151             -0.043892        1  STANDING  \n",
              "\n",
              "[5 rows x 563 columns]"
            ]
          },
          "metadata": {
            "tags": []
          },
          "execution_count": 3
        }
      ]
    },
    {
      "metadata": {
        "id": "agAIVRrK1YjO",
        "colab_type": "text"
      },
      "cell_type": "markdown",
      "source": [
        "## Preprocessing"
      ]
    },
    {
      "metadata": {
        "id": "eFhL_DQedMSh",
        "colab_type": "text"
      },
      "cell_type": "markdown",
      "source": [
        "Random shuffle the dataset, because the raw dataset have the data from same subject & activities grouped together. "
      ]
    },
    {
      "metadata": {
        "id": "2ORFihx4_IEQ",
        "colab_type": "code",
        "colab": {
          "autoexec": {
            "startup": false,
            "wait_interval": 0
          }
        }
      },
      "cell_type": "code",
      "source": [
        "train = train.sample(frac=1)\n",
        "test = test.sample(frac=1)"
      ],
      "execution_count": 0,
      "outputs": []
    },
    {
      "metadata": {
        "id": "UJ3WRu7LdZy_",
        "colab_type": "text"
      },
      "cell_type": "markdown",
      "source": [
        "Drop the last two columns:'subject' and 'Activity', the 'Activity' is our target label"
      ]
    },
    {
      "metadata": {
        "id": "xiqgyu1N4qQd",
        "colab_type": "code",
        "colab": {
          "autoexec": {
            "startup": false,
            "wait_interval": 0
          }
        }
      },
      "cell_type": "code",
      "source": [
        "Y_train = train.Activity\n",
        "train = train.drop(['Activity','subject'], axis=1) #(7352, 561)\n",
        "\n",
        "Y_test = test.Activity\n",
        "test = test.drop(['Activity','subject'], axis=1) #(2947, 561)"
      ],
      "execution_count": 0,
      "outputs": []
    },
    {
      "metadata": {
        "id": "QMjiaaSO-V_d",
        "colab_type": "text"
      },
      "cell_type": "markdown",
      "source": [
        "## KMeans cluster"
      ]
    },
    {
      "metadata": {
        "id": "IYXm2WCtmmYU",
        "colab_type": "text"
      },
      "cell_type": "markdown",
      "source": [
        "This section of code follows the structure from this [tutorial](http://learningtensorflow.com/lesson6/) with modification. "
      ]
    },
    {
      "metadata": {
        "id": "WWPvNG5wJ0RT",
        "colab_type": "code",
        "colab": {
          "autoexec": {
            "startup": false,
            "wait_interval": 0
          },
          "output_extras": [
            {
              "item_id": 1
            }
          ],
          "base_uri": "https://localhost:8080/",
          "height": 270
        },
        "outputId": "433e09c0-6b54-4113-c854-1d4cca4708ce",
        "executionInfo": {
          "status": "ok",
          "timestamp": 1517963747657,
          "user_tz": 300,
          "elapsed": 355,
          "user": {
            "displayName": "Botao Deng",
            "photoUrl": "//lh4.googleusercontent.com/-e7SiulTUtZ4/AAAAAAAAAAI/AAAAAAAAAVU/sMRkL4UGYyE/s50-c-k-no/photo.jpg",
            "userId": "112553689025425246876"
          }
        }
      },
      "cell_type": "code",
      "source": [
        "train.head()"
      ],
      "execution_count": 6,
      "outputs": [
        {
          "output_type": "execute_result",
          "data": {
            "text/html": [
              "<div>\n",
              "<style scoped>\n",
              "    .dataframe tbody tr th:only-of-type {\n",
              "        vertical-align: middle;\n",
              "    }\n",
              "\n",
              "    .dataframe tbody tr th {\n",
              "        vertical-align: top;\n",
              "    }\n",
              "\n",
              "    .dataframe thead th {\n",
              "        text-align: right;\n",
              "    }\n",
              "</style>\n",
              "<table border=\"1\" class=\"dataframe\">\n",
              "  <thead>\n",
              "    <tr style=\"text-align: right;\">\n",
              "      <th></th>\n",
              "      <th>tBodyAcc-mean()-X</th>\n",
              "      <th>tBodyAcc-mean()-Y</th>\n",
              "      <th>tBodyAcc-mean()-Z</th>\n",
              "      <th>tBodyAcc-std()-X</th>\n",
              "      <th>tBodyAcc-std()-Y</th>\n",
              "      <th>tBodyAcc-std()-Z</th>\n",
              "      <th>tBodyAcc-mad()-X</th>\n",
              "      <th>tBodyAcc-mad()-Y</th>\n",
              "      <th>tBodyAcc-mad()-Z</th>\n",
              "      <th>tBodyAcc-max()-X</th>\n",
              "      <th>...</th>\n",
              "      <th>fBodyBodyGyroJerkMag-meanFreq()</th>\n",
              "      <th>fBodyBodyGyroJerkMag-skewness()</th>\n",
              "      <th>fBodyBodyGyroJerkMag-kurtosis()</th>\n",
              "      <th>angle(tBodyAccMean,gravity)</th>\n",
              "      <th>angle(tBodyAccJerkMean),gravityMean)</th>\n",
              "      <th>angle(tBodyGyroMean,gravityMean)</th>\n",
              "      <th>angle(tBodyGyroJerkMean,gravityMean)</th>\n",
              "      <th>angle(X,gravityMean)</th>\n",
              "      <th>angle(Y,gravityMean)</th>\n",
              "      <th>angle(Z,gravityMean)</th>\n",
              "    </tr>\n",
              "  </thead>\n",
              "  <tbody>\n",
              "    <tr>\n",
              "      <th>1930</th>\n",
              "      <td>0.275602</td>\n",
              "      <td>-0.014378</td>\n",
              "      <td>-0.107078</td>\n",
              "      <td>-0.990957</td>\n",
              "      <td>-0.977243</td>\n",
              "      <td>-0.978142</td>\n",
              "      <td>-0.993393</td>\n",
              "      <td>-0.979388</td>\n",
              "      <td>-0.982505</td>\n",
              "      <td>-0.924358</td>\n",
              "      <td>...</td>\n",
              "      <td>0.096196</td>\n",
              "      <td>-0.053105</td>\n",
              "      <td>-0.506707</td>\n",
              "      <td>-0.089184</td>\n",
              "      <td>-0.149449</td>\n",
              "      <td>-0.113146</td>\n",
              "      <td>-0.520405</td>\n",
              "      <td>-0.563136</td>\n",
              "      <td>-0.153964</td>\n",
              "      <td>-0.153093</td>\n",
              "    </tr>\n",
              "    <tr>\n",
              "      <th>6842</th>\n",
              "      <td>0.277710</td>\n",
              "      <td>-0.012810</td>\n",
              "      <td>-0.105801</td>\n",
              "      <td>-0.996945</td>\n",
              "      <td>-0.985843</td>\n",
              "      <td>-0.986607</td>\n",
              "      <td>-0.997060</td>\n",
              "      <td>-0.984664</td>\n",
              "      <td>-0.985520</td>\n",
              "      <td>-0.940076</td>\n",
              "      <td>...</td>\n",
              "      <td>0.160324</td>\n",
              "      <td>-0.648661</td>\n",
              "      <td>-0.891281</td>\n",
              "      <td>-0.121943</td>\n",
              "      <td>0.189055</td>\n",
              "      <td>0.240948</td>\n",
              "      <td>0.300952</td>\n",
              "      <td>-0.741172</td>\n",
              "      <td>0.014104</td>\n",
              "      <td>-0.148676</td>\n",
              "    </tr>\n",
              "    <tr>\n",
              "      <th>6609</th>\n",
              "      <td>0.253287</td>\n",
              "      <td>-0.019407</td>\n",
              "      <td>-0.163259</td>\n",
              "      <td>-0.268935</td>\n",
              "      <td>-0.125074</td>\n",
              "      <td>-0.327630</td>\n",
              "      <td>-0.320527</td>\n",
              "      <td>-0.179490</td>\n",
              "      <td>-0.336961</td>\n",
              "      <td>0.138728</td>\n",
              "      <td>...</td>\n",
              "      <td>-0.028307</td>\n",
              "      <td>-0.392197</td>\n",
              "      <td>-0.747373</td>\n",
              "      <td>-0.034108</td>\n",
              "      <td>0.478475</td>\n",
              "      <td>0.882001</td>\n",
              "      <td>-0.360865</td>\n",
              "      <td>-0.544087</td>\n",
              "      <td>0.327879</td>\n",
              "      <td>0.233957</td>\n",
              "    </tr>\n",
              "    <tr>\n",
              "      <th>5023</th>\n",
              "      <td>0.449566</td>\n",
              "      <td>-0.025920</td>\n",
              "      <td>-0.091716</td>\n",
              "      <td>0.255458</td>\n",
              "      <td>0.215342</td>\n",
              "      <td>0.248882</td>\n",
              "      <td>0.146518</td>\n",
              "      <td>0.127807</td>\n",
              "      <td>0.178287</td>\n",
              "      <td>0.516075</td>\n",
              "      <td>...</td>\n",
              "      <td>0.418539</td>\n",
              "      <td>-0.326814</td>\n",
              "      <td>-0.636093</td>\n",
              "      <td>-0.801188</td>\n",
              "      <td>0.719251</td>\n",
              "      <td>0.882085</td>\n",
              "      <td>-0.364118</td>\n",
              "      <td>-0.819634</td>\n",
              "      <td>0.157803</td>\n",
              "      <td>0.132478</td>\n",
              "    </tr>\n",
              "    <tr>\n",
              "      <th>6248</th>\n",
              "      <td>0.281905</td>\n",
              "      <td>-0.020872</td>\n",
              "      <td>-0.125006</td>\n",
              "      <td>-0.985254</td>\n",
              "      <td>-0.894417</td>\n",
              "      <td>-0.931207</td>\n",
              "      <td>-0.987240</td>\n",
              "      <td>-0.885168</td>\n",
              "      <td>-0.933465</td>\n",
              "      <td>-0.929771</td>\n",
              "      <td>...</td>\n",
              "      <td>-0.013462</td>\n",
              "      <td>0.128510</td>\n",
              "      <td>-0.193418</td>\n",
              "      <td>-0.129315</td>\n",
              "      <td>0.272266</td>\n",
              "      <td>0.471185</td>\n",
              "      <td>-0.530566</td>\n",
              "      <td>-0.772766</td>\n",
              "      <td>0.254949</td>\n",
              "      <td>0.009044</td>\n",
              "    </tr>\n",
              "  </tbody>\n",
              "</table>\n",
              "<p>5 rows × 561 columns</p>\n",
              "</div>"
            ],
            "text/plain": [
              "      tBodyAcc-mean()-X  tBodyAcc-mean()-Y  tBodyAcc-mean()-Z  \\\n",
              "1930           0.275602          -0.014378          -0.107078   \n",
              "6842           0.277710          -0.012810          -0.105801   \n",
              "6609           0.253287          -0.019407          -0.163259   \n",
              "5023           0.449566          -0.025920          -0.091716   \n",
              "6248           0.281905          -0.020872          -0.125006   \n",
              "\n",
              "      tBodyAcc-std()-X  tBodyAcc-std()-Y  tBodyAcc-std()-Z  tBodyAcc-mad()-X  \\\n",
              "1930         -0.990957         -0.977243         -0.978142         -0.993393   \n",
              "6842         -0.996945         -0.985843         -0.986607         -0.997060   \n",
              "6609         -0.268935         -0.125074         -0.327630         -0.320527   \n",
              "5023          0.255458          0.215342          0.248882          0.146518   \n",
              "6248         -0.985254         -0.894417         -0.931207         -0.987240   \n",
              "\n",
              "      tBodyAcc-mad()-Y  tBodyAcc-mad()-Z  tBodyAcc-max()-X  \\\n",
              "1930         -0.979388         -0.982505         -0.924358   \n",
              "6842         -0.984664         -0.985520         -0.940076   \n",
              "6609         -0.179490         -0.336961          0.138728   \n",
              "5023          0.127807          0.178287          0.516075   \n",
              "6248         -0.885168         -0.933465         -0.929771   \n",
              "\n",
              "              ...           fBodyBodyGyroJerkMag-meanFreq()  \\\n",
              "1930          ...                                  0.096196   \n",
              "6842          ...                                  0.160324   \n",
              "6609          ...                                 -0.028307   \n",
              "5023          ...                                  0.418539   \n",
              "6248          ...                                 -0.013462   \n",
              "\n",
              "      fBodyBodyGyroJerkMag-skewness()  fBodyBodyGyroJerkMag-kurtosis()  \\\n",
              "1930                        -0.053105                        -0.506707   \n",
              "6842                        -0.648661                        -0.891281   \n",
              "6609                        -0.392197                        -0.747373   \n",
              "5023                        -0.326814                        -0.636093   \n",
              "6248                         0.128510                        -0.193418   \n",
              "\n",
              "      angle(tBodyAccMean,gravity)  angle(tBodyAccJerkMean),gravityMean)  \\\n",
              "1930                    -0.089184                             -0.149449   \n",
              "6842                    -0.121943                              0.189055   \n",
              "6609                    -0.034108                              0.478475   \n",
              "5023                    -0.801188                              0.719251   \n",
              "6248                    -0.129315                              0.272266   \n",
              "\n",
              "      angle(tBodyGyroMean,gravityMean)  angle(tBodyGyroJerkMean,gravityMean)  \\\n",
              "1930                         -0.113146                             -0.520405   \n",
              "6842                          0.240948                              0.300952   \n",
              "6609                          0.882001                             -0.360865   \n",
              "5023                          0.882085                             -0.364118   \n",
              "6248                          0.471185                             -0.530566   \n",
              "\n",
              "      angle(X,gravityMean)  angle(Y,gravityMean)  angle(Z,gravityMean)  \n",
              "1930             -0.563136             -0.153964             -0.153093  \n",
              "6842             -0.741172              0.014104             -0.148676  \n",
              "6609             -0.544087              0.327879              0.233957  \n",
              "5023             -0.819634              0.157803              0.132478  \n",
              "6248             -0.772766              0.254949              0.009044  \n",
              "\n",
              "[5 rows x 561 columns]"
            ]
          },
          "metadata": {
            "tags": []
          },
          "execution_count": 6
        }
      ]
    },
    {
      "metadata": {
        "id": "CYzOoVM1X7JT",
        "colab_type": "text"
      },
      "cell_type": "markdown",
      "source": [
        "### Randomly assign initial clusters"
      ]
    },
    {
      "metadata": {
        "id": "OvZ3P8JoKBr7",
        "colab_type": "code",
        "colab": {
          "autoexec": {
            "startup": false,
            "wait_interval": 0
          }
        }
      },
      "cell_type": "code",
      "source": [
        "def generate_initial_centroid(samples, num_cluster):\n",
        "  '''\n",
        "  This is the first step of K-means. \n",
        "  samples: tensor (num_samples, num_features)\n",
        "  num_cluster: K, number of clusters.\n",
        "  \n",
        "  '''\n",
        "  num_samples = tf.shape(samples)[0]\n",
        "  random_indices = tf.random_shuffle(tf.range(0, num_samples))\n",
        "  centroid_indices = tf.slice(random_indices, [0], [num_cluster])\n",
        "  init_centroid = tf.gather(samples, centroid_indices)\n",
        "  \n",
        "  return init_centroid\n",
        "  "
      ],
      "execution_count": 0,
      "outputs": []
    },
    {
      "metadata": {
        "id": "bM25TUGMYFoy",
        "colab_type": "text"
      },
      "cell_type": "markdown",
      "source": [
        "*Test the initial cluster generating function*"
      ]
    },
    {
      "metadata": {
        "id": "JxUtZE6ciYhI",
        "colab_type": "code",
        "colab": {
          "autoexec": {
            "startup": false,
            "wait_interval": 0
          },
          "output_extras": [
            {
              "item_id": 1
            }
          ],
          "base_uri": "https://localhost:8080/",
          "height": 34
        },
        "outputId": "67bcf958-05ca-4963-8063-af5efadf1d0f",
        "executionInfo": {
          "status": "ok",
          "timestamp": 1517963749341,
          "user_tz": 300,
          "elapsed": 958,
          "user": {
            "displayName": "Botao Deng",
            "photoUrl": "//lh4.googleusercontent.com/-e7SiulTUtZ4/AAAAAAAAAAI/AAAAAAAAAVU/sMRkL4UGYyE/s50-c-k-no/photo.jpg",
            "userId": "112553689025425246876"
          }
        }
      },
      "cell_type": "code",
      "source": [
        "init_test = train.iloc[:1500].values\n",
        "\n",
        "init_placeholder = tf.placeholder(tf.float32, [1500, 561])\n",
        "init_res = generate_initial_centroid(init_placeholder, 6)\n",
        "with tf.Session() as sess:\n",
        "  init_centroid = sess.run(init_res, feed_dict={init_placeholder:init_test})\n",
        "  \n",
        "print(\"The expected shape is (6, 561) and the generated shape is {0}\".format(init_centroid.shape))"
      ],
      "execution_count": 8,
      "outputs": [
        {
          "output_type": "stream",
          "text": [
            "The expected shape is (6, 561) and the generated shape is (6, 561)\n"
          ],
          "name": "stdout"
        }
      ]
    },
    {
      "metadata": {
        "id": "uoJtruHnYTYZ",
        "colab_type": "text"
      },
      "cell_type": "markdown",
      "source": [
        "### Assgin each sample to its nearest centroid"
      ]
    },
    {
      "metadata": {
        "id": "8mikryBSsEBX",
        "colab_type": "code",
        "colab": {
          "autoexec": {
            "startup": false,
            "wait_interval": 0
          },
          "output_extras": [
            {
              "item_id": 1
            }
          ],
          "base_uri": "https://localhost:8080/",
          "height": 136
        },
        "outputId": "c5a4303c-99df-4b5e-b5e8-1586cc77b4d0",
        "executionInfo": {
          "status": "ok",
          "timestamp": 1517963749692,
          "user_tz": 300,
          "elapsed": 258,
          "user": {
            "displayName": "Botao Deng",
            "photoUrl": "//lh4.googleusercontent.com/-e7SiulTUtZ4/AAAAAAAAAAI/AAAAAAAAAVU/sMRkL4UGYyE/s50-c-k-no/photo.jpg",
            "userId": "112553689025425246876"
          }
        }
      },
      "cell_type": "code",
      "source": [
        "# Check broadcasting rules. \n",
        "\n",
        "a = np.array([[[1,2,3],[4,5,6]]]) # (1,2,3) -- (1, num_samples, num_features)\n",
        "b = np.array([[[1,1,1]],[[4,4,4]]]) # (2,1,3) -- (num_centroids, 1, num_features)\n",
        "print(\"The result of a - b is \\n{0}\".format(a - b))\n",
        "print(\"The shape of a - b is {0}\".format((a-b).shape))"
      ],
      "execution_count": 9,
      "outputs": [
        {
          "output_type": "stream",
          "text": [
            "The result of a - b is \n",
            "[[[ 0  1  2]\n",
            "  [ 3  4  5]]\n",
            "\n",
            " [[-3 -2 -1]\n",
            "  [ 0  1  2]]]\n",
            "The shape of a - b is (2, 2, 3)\n"
          ],
          "name": "stdout"
        }
      ]
    },
    {
      "metadata": {
        "id": "ws0u0eWAkmxe",
        "colab_type": "code",
        "colab": {
          "autoexec": {
            "startup": false,
            "wait_interval": 0
          }
        }
      },
      "cell_type": "code",
      "source": [
        "def assign_to_nearest(samples, centroids):\n",
        "  \"\"\"\n",
        "  This function assign each sample to its nearest centroid. \n",
        "  samples: tensor, (num_samples, num_features)\n",
        "  centroids: tensor, (num_centroids, num_features)\n",
        "  \"\"\"\n",
        "  expend_samples = tf.expand_dims(samples, 0) # samples become (1, num_samples, num_features)\n",
        "  expend_centroid = tf.expand_dims(centroids, 1) # centroid become (num_centroid, 1, num_features)\n",
        "  \n",
        "  ## each entry represents how far a sample to a centroid. \n",
        "  distances = tf.reduce_sum(tf.square(tf.subtract(expend_samples, expend_centroid)), 2) # distance: (num_centroid, num_samples)\n",
        "  \n",
        "  ## which centorid each sample is assigned to. \n",
        "  nearest_index = tf.argmin(distances, 0) # nearest_index:(num_samples)\n",
        "  \n",
        "  return nearest_index"
      ],
      "execution_count": 0,
      "outputs": []
    },
    {
      "metadata": {
        "id": "NL80g5SpYdSp",
        "colab_type": "text"
      },
      "cell_type": "markdown",
      "source": [
        "*Test the assignment function*"
      ]
    },
    {
      "metadata": {
        "id": "X_4EuWrGwdMZ",
        "colab_type": "code",
        "colab": {
          "autoexec": {
            "startup": false,
            "wait_interval": 0
          },
          "output_extras": [
            {
              "item_id": 1
            }
          ],
          "base_uri": "https://localhost:8080/",
          "height": 68
        },
        "outputId": "a359fc53-59f8-4916-b388-f1dfcc2b812a",
        "executionInfo": {
          "status": "ok",
          "timestamp": 1517963750658,
          "user_tz": 300,
          "elapsed": 269,
          "user": {
            "displayName": "Botao Deng",
            "photoUrl": "//lh4.googleusercontent.com/-e7SiulTUtZ4/AAAAAAAAAAI/AAAAAAAAAVU/sMRkL4UGYyE/s50-c-k-no/photo.jpg",
            "userId": "112553689025425246876"
          }
        }
      },
      "cell_type": "code",
      "source": [
        "\n",
        "assign_samples = tf.constant(np.array([[1,2,3],[4,5,6]]))\n",
        "assign_centroid = tf.constant(np.array([[1,1,1],[4,4,4]]))\n",
        "with tf.Session() as sess:\n",
        "  assign_nearest_index = assign_to_nearest(assign_samples, assign_centroid)\n",
        "  assign_res = sess.run(assign_nearest_index)\n",
        "\n",
        "print(\"The expected output is (0,1), and the actual output is {0}\".format(assign_res))\n",
        "print(\"The first sample (1,2,3) should be assigned to centroid (1,1,1)\")\n",
        "print(\"The second sample (4,5,5) should be assigned to centroid (4,4,4)\")"
      ],
      "execution_count": 11,
      "outputs": [
        {
          "output_type": "stream",
          "text": [
            "The expected output is (0,1), and the actual output is [0 1]\n",
            "The first sample (1,2,3) should be assigned to centroid (1,1,1)\n",
            "The second sample (4,5,5) should be assigned to centroid (4,4,4)\n"
          ],
          "name": "stdout"
        }
      ]
    },
    {
      "metadata": {
        "id": "n7_PSZNPYjrm",
        "colab_type": "text"
      },
      "cell_type": "markdown",
      "source": [
        "### Get new centroids by averaging out the assignment."
      ]
    },
    {
      "metadata": {
        "id": "aQZ94KhJx9DR",
        "colab_type": "code",
        "colab": {
          "autoexec": {
            "startup": false,
            "wait_interval": 0
          }
        }
      },
      "cell_type": "code",
      "source": [
        "def update_centroid(samples, nearest_index, num_clusters):\n",
        "  \"\"\"\n",
        "  samples: tensor, (num_samples, num_features)\n",
        "  nearest_index: tensor, (num_samples)\n",
        "  num_clusters: int\n",
        "  \"\"\"\n",
        "  \n",
        "  nearest_index = tf.to_int32(nearest_index)\n",
        "  partitions = tf.dynamic_partition(samples, nearest_index, num_clusters)\n",
        "  new_centroids = tf.concat([tf.reduce_mean(partition, 0, keep_dims=True) for partition in partitions], axis=0)\n",
        "  \n",
        "  return new_centroids, nearest_index"
      ],
      "execution_count": 0,
      "outputs": []
    },
    {
      "metadata": {
        "id": "TsgPVhKsYttn",
        "colab_type": "text"
      },
      "cell_type": "markdown",
      "source": [
        "*Test the update function*"
      ]
    },
    {
      "metadata": {
        "id": "MvT5di_JWM5A",
        "colab_type": "code",
        "colab": {
          "autoexec": {
            "startup": false,
            "wait_interval": 0
          },
          "output_extras": [
            {
              "item_id": 1
            }
          ],
          "base_uri": "https://localhost:8080/",
          "height": 85
        },
        "outputId": "c75e2bc8-1cf4-4e24-ea77-51e2d34b0f82",
        "executionInfo": {
          "status": "ok",
          "timestamp": 1517963751505,
          "user_tz": 300,
          "elapsed": 256,
          "user": {
            "displayName": "Botao Deng",
            "photoUrl": "//lh4.googleusercontent.com/-e7SiulTUtZ4/AAAAAAAAAAI/AAAAAAAAAVU/sMRkL4UGYyE/s50-c-k-no/photo.jpg",
            "userId": "112553689025425246876"
          }
        }
      },
      "cell_type": "code",
      "source": [
        "# Test the function: update_centroid.\n",
        "with tf.Session() as sess:\n",
        "  new_cent, _ = update_centroid(assign_samples, assign_res, 2)\n",
        "  update_res = sess.run(new_cent)\n",
        "  \n",
        "print(\"The expected new centroids are (1,2,3), (4,5,6)\")\n",
        "print(\"The actual new centroids are \\n{0}\".format(update_res))"
      ],
      "execution_count": 13,
      "outputs": [
        {
          "output_type": "stream",
          "text": [
            "The expected new centroids are (1,2,3), (4,5,6)\n",
            "The actual new centroids are \n",
            "[[1 2 3]\n",
            " [4 5 6]]\n"
          ],
          "name": "stdout"
        }
      ]
    },
    {
      "metadata": {
        "id": "TRTkYNh1XSeg",
        "colab_type": "text"
      },
      "cell_type": "markdown",
      "source": [
        "### Run the K-means algorithm"
      ]
    },
    {
      "metadata": {
        "id": "pm580SsUZKS0",
        "colab_type": "code",
        "colab": {
          "autoexec": {
            "startup": false,
            "wait_interval": 0
          }
        }
      },
      "cell_type": "code",
      "source": [
        "k_means_placeholder = tf.placeholder(tf.float32, shape=(7352, 561))\n",
        "updated_centroids = tf.placeholder(tf.float32, shape=(6, 561))\n",
        "\n",
        "init_centroids = generate_initial_centroid(k_means_placeholder, num_cluster=6)\n",
        "\n",
        "\n",
        "nearest_index = assign_to_nearest(k_means_placeholder,updated_centroids)\n",
        "updated_centroid = update_centroid(k_means_placeholder, nearest_index, 6)\n",
        "\n",
        "with tf.Session() as sess:\n",
        "  centroids = sess.run(init_centroids, feed_dict={k_means_placeholder:train})\n",
        "  for i in range(0, 300):\n",
        "    \n",
        "    centroids,nearest_index = sess.run(updated_centroid, feed_dict={k_means_placeholder:train,\n",
        "                                                         updated_centroids:centroids})\n",
        "    "
      ],
      "execution_count": 0,
      "outputs": []
    },
    {
      "metadata": {
        "id": "RpOEAEUWc0VM",
        "colab_type": "code",
        "colab": {
          "autoexec": {
            "startup": false,
            "wait_interval": 0
          },
          "output_extras": [
            {
              "item_id": 1
            }
          ],
          "base_uri": "https://localhost:8080/",
          "height": 266
        },
        "outputId": "5bb98bd0-13df-419c-b3a6-acff6dadc7da",
        "executionInfo": {
          "status": "ok",
          "timestamp": 1517963761284,
          "user_tz": 300,
          "elapsed": 298,
          "user": {
            "displayName": "Botao Deng",
            "photoUrl": "//lh4.googleusercontent.com/-e7SiulTUtZ4/AAAAAAAAAAI/AAAAAAAAAVU/sMRkL4UGYyE/s50-c-k-no/photo.jpg",
            "userId": "112553689025425246876"
          }
        }
      },
      "cell_type": "code",
      "source": [
        "pd.crosstab(nearest_index, Y_train)"
      ],
      "execution_count": 15,
      "outputs": [
        {
          "output_type": "execute_result",
          "data": {
            "text/html": [
              "<div>\n",
              "<style scoped>\n",
              "    .dataframe tbody tr th:only-of-type {\n",
              "        vertical-align: middle;\n",
              "    }\n",
              "\n",
              "    .dataframe tbody tr th {\n",
              "        vertical-align: top;\n",
              "    }\n",
              "\n",
              "    .dataframe thead th {\n",
              "        text-align: right;\n",
              "    }\n",
              "</style>\n",
              "<table border=\"1\" class=\"dataframe\">\n",
              "  <thead>\n",
              "    <tr style=\"text-align: right;\">\n",
              "      <th>Activity</th>\n",
              "      <th>LAYING</th>\n",
              "      <th>SITTING</th>\n",
              "      <th>STANDING</th>\n",
              "      <th>WALKING</th>\n",
              "      <th>WALKING_DOWNSTAIRS</th>\n",
              "      <th>WALKING_UPSTAIRS</th>\n",
              "    </tr>\n",
              "    <tr>\n",
              "      <th>row_0</th>\n",
              "      <th></th>\n",
              "      <th></th>\n",
              "      <th></th>\n",
              "      <th></th>\n",
              "      <th></th>\n",
              "      <th></th>\n",
              "    </tr>\n",
              "  </thead>\n",
              "  <tbody>\n",
              "    <tr>\n",
              "      <th>0</th>\n",
              "      <td>10</td>\n",
              "      <td>1</td>\n",
              "      <td>0</td>\n",
              "      <td>839</td>\n",
              "      <td>253</td>\n",
              "      <td>912</td>\n",
              "    </tr>\n",
              "    <tr>\n",
              "      <th>1</th>\n",
              "      <td>2</td>\n",
              "      <td>417</td>\n",
              "      <td>597</td>\n",
              "      <td>0</td>\n",
              "      <td>0</td>\n",
              "      <td>0</td>\n",
              "    </tr>\n",
              "    <tr>\n",
              "      <th>2</th>\n",
              "      <td>0</td>\n",
              "      <td>810</td>\n",
              "      <td>777</td>\n",
              "      <td>0</td>\n",
              "      <td>0</td>\n",
              "      <td>0</td>\n",
              "    </tr>\n",
              "    <tr>\n",
              "      <th>3</th>\n",
              "      <td>633</td>\n",
              "      <td>15</td>\n",
              "      <td>0</td>\n",
              "      <td>0</td>\n",
              "      <td>0</td>\n",
              "      <td>0</td>\n",
              "    </tr>\n",
              "    <tr>\n",
              "      <th>4</th>\n",
              "      <td>0</td>\n",
              "      <td>0</td>\n",
              "      <td>0</td>\n",
              "      <td>387</td>\n",
              "      <td>733</td>\n",
              "      <td>161</td>\n",
              "    </tr>\n",
              "    <tr>\n",
              "      <th>5</th>\n",
              "      <td>762</td>\n",
              "      <td>43</td>\n",
              "      <td>0</td>\n",
              "      <td>0</td>\n",
              "      <td>0</td>\n",
              "      <td>0</td>\n",
              "    </tr>\n",
              "  </tbody>\n",
              "</table>\n",
              "</div>"
            ],
            "text/plain": [
              "Activity  LAYING  SITTING  STANDING  WALKING  WALKING_DOWNSTAIRS  \\\n",
              "row_0                                                              \n",
              "0             10        1         0      839                 253   \n",
              "1              2      417       597        0                   0   \n",
              "2              0      810       777        0                   0   \n",
              "3            633       15         0        0                   0   \n",
              "4              0        0         0      387                 733   \n",
              "5            762       43         0        0                   0   \n",
              "\n",
              "Activity  WALKING_UPSTAIRS  \n",
              "row_0                       \n",
              "0                      912  \n",
              "1                        0  \n",
              "2                        0  \n",
              "3                        0  \n",
              "4                      161  \n",
              "5                        0  "
            ]
          },
          "metadata": {
            "tags": []
          },
          "execution_count": 15
        }
      ]
    },
    {
      "metadata": {
        "id": "eZL-p8HngzyC",
        "colab_type": "text"
      },
      "cell_type": "markdown",
      "source": [
        "Take out message:\n",
        "\n",
        "1) We can see that basically walking activities are separated out from the passive activities. Cluster 0 and Cluster 3 are filled with walking activities, while the rest clusters represent the passive activities. \n",
        "\n",
        "2) Cluster 0 has more 'walking' and 'walking upstairs' in it, while majority of samples of cluster 3 are 'walking downstairs'. That means 'walking downstairs' are easier to separate out from the other two, while the 'walking' and 'walking upstair' are very easy to get mixed.\n",
        "\n",
        "3) Cluster 2 and 5 are filled with 'laying', and cluster 1 and 4 are filled with sitting and standing. Laying is clearly easier to distinguished from the other two. And it seems that k-means algorithm has difficulites identifying sitting and standing. "
      ]
    },
    {
      "metadata": {
        "id": "iMMU9e4Tfcrd",
        "colab_type": "text"
      },
      "cell_type": "markdown",
      "source": [
        "## Neural Network Model"
      ]
    },
    {
      "metadata": {
        "id": "PXKkWETLdj5r",
        "colab_type": "text"
      },
      "cell_type": "markdown",
      "source": [
        "One-hot encoded our target label"
      ]
    },
    {
      "metadata": {
        "id": "L0-fNcaP908Q",
        "colab_type": "code",
        "colab": {
          "autoexec": {
            "startup": false,
            "wait_interval": 0
          }
        }
      },
      "cell_type": "code",
      "source": [
        "Y_train = pd.get_dummies(Y_train)\n",
        "Y_test = pd.get_dummies(Y_test)"
      ],
      "execution_count": 0,
      "outputs": []
    },
    {
      "metadata": {
        "id": "dlzpYqqEKGH7",
        "colab_type": "code",
        "colab": {
          "autoexec": {
            "startup": false,
            "wait_interval": 0
          }
        }
      },
      "cell_type": "code",
      "source": [
        "train = train.as_matrix()\n",
        "test = test.as_matrix()\n",
        "\n",
        "Y_train = Y_train.as_matrix()\n",
        "Y_test = Y_test.as_matrix()"
      ],
      "execution_count": 0,
      "outputs": []
    },
    {
      "metadata": {
        "id": "VA0glwwU1SXR",
        "colab_type": "code",
        "colab": {
          "autoexec": {
            "startup": false,
            "wait_interval": 0
          }
        }
      },
      "cell_type": "code",
      "source": [
        "FEATURE_DIM = 561\n",
        "LEARNING_RATE = 0.001\n",
        "LABEL_DIM = 6\n",
        "BATCH_SIZE = 64\n",
        "NUM_EPOCH = 100"
      ],
      "execution_count": 0,
      "outputs": []
    },
    {
      "metadata": {
        "id": "d0YMPUvnAOwJ",
        "colab_type": "text"
      },
      "cell_type": "markdown",
      "source": [
        "The code below follows the structure from SharpestMinds. Click [here](https://drive.google.com/file/d/0B1I9rUbcvFQTd0twUXZXcWRjajA/view) for original code.  "
      ]
    },
    {
      "metadata": {
        "id": "g3vx29ZNuWTN",
        "colab_type": "text"
      },
      "cell_type": "markdown",
      "source": [
        "### Network Object"
      ]
    },
    {
      "metadata": {
        "id": "3gghEFBDzi1i",
        "colab_type": "code",
        "colab": {
          "autoexec": {
            "startup": false,
            "wait_interval": 0
          }
        }
      },
      "cell_type": "code",
      "source": [
        "class Neural_Network():\n",
        "  \n",
        "  def __init__(self, feature_dim = FEATURE_DIM, label_dim = LABEL_DIM):\n",
        "    self.feature_dim = feature_dim\n",
        "    self.label_dim = label_dim\n",
        "    \n",
        "    \n",
        "  def build_network(self, learning_rate=LEARNING_RATE):\n",
        "    \n",
        "    self.train_X = tf.placeholder(tf.float32, [None, self.feature_dim])\n",
        "    self.train_Y = tf.placeholder(tf.float32, [None, self.label_dim])\n",
        "    \n",
        "    self.layer_1 = self.dense_layer(self.train_X, self.feature_dim, \n",
        "                                    1024, activation=tf.nn.relu, name='layer_1')\n",
        "    self.layer_2 = self.dense_layer(self.layer_1, 1024, 512, \n",
        "                                   activation=tf.nn.relu, name='layer_2')\n",
        "    self.layer_3 = self.dense_layer(self.layer_2, 512, 64, \n",
        "                                   activation=tf.nn.relu, name='layer_3')\n",
        "    self.output = self.dense_layer(self.layer_3, 64, 6, name='output')\n",
        "    \n",
        "    self.loss = tf.reduce_mean(\n",
        "        tf.nn.softmax_cross_entropy_with_logits(logits=self.output, labels = self.train_Y))\n",
        "    \n",
        "    self.optimizer = tf.train.AdamOptimizer(learning_rate)\n",
        "    \n",
        "    self.train_step = self.optimizer.minimize(self.loss)\n",
        "    \n",
        "    self.accuracy = tf.reduce_mean(tf.cast(tf.equal(tf.argmax(self.output,1), \n",
        "                                                    tf.argmax(self.train_Y, 1)),'float'))\n",
        "    \n",
        "  def dense_layer(self, inputs, input_size, output_size, name, activation=None):\n",
        "    \n",
        "    W = tf.get_variable(name=name+'_w',shape=(input_size, output_size), \n",
        "                        initializer=tf.contrib.layers.xavier_initializer())\n",
        "    b = tf.get_variable(name=name+'_b', shape=(output_size))\n",
        "    out = tf.matmul(inputs, W) + b\n",
        "    \n",
        "    if activation:\n",
        "      return activation(out)\n",
        "    else:\n",
        "      return out\n",
        "    "
      ],
      "execution_count": 0,
      "outputs": []
    },
    {
      "metadata": {
        "id": "TidZ8CX1ub6T",
        "colab_type": "text"
      },
      "cell_type": "markdown",
      "source": [
        "### Data Object"
      ]
    },
    {
      "metadata": {
        "id": "4Me998D3BfG4",
        "colab_type": "code",
        "colab": {
          "autoexec": {
            "startup": false,
            "wait_interval": 0
          }
        }
      },
      "cell_type": "code",
      "source": [
        "class Data():\n",
        "  \n",
        "  def __init__(self, train_X, train_Y, batch_size=BATCH_SIZE):\n",
        "    \n",
        "    self.train_X = train_X\n",
        "    self.train_Y = train_Y\n",
        "    self.batch_size = batch_size\n",
        "    self.num_batch = self.train_X.shape[0]//batch_size\n",
        "    \n",
        "  def generate_batch(self):\n",
        "    \n",
        "    for i in range(self.num_batch):\n",
        "      \n",
        "      x = self.train_X[(i*self.batch_size):(i+1)*self.batch_size, :]\n",
        "      y = self.train_Y[(i*self.batch_size):(i+1)*self.batch_size]\n",
        "      \n",
        "      yield x, y \n",
        "    "
      ],
      "execution_count": 0,
      "outputs": []
    },
    {
      "metadata": {
        "id": "OJq26PR9ueu9",
        "colab_type": "text"
      },
      "cell_type": "markdown",
      "source": [
        "### Training object"
      ]
    },
    {
      "metadata": {
        "id": "boOGt9AE9GVP",
        "colab_type": "code",
        "colab": {
          "autoexec": {
            "startup": false,
            "wait_interval": 0
          }
        }
      },
      "cell_type": "code",
      "source": [
        "class Learn():\n",
        "  \n",
        "  def __init__(self, train_X, train_Y, test_X, test_Y, \n",
        "               batch_size=BATCH_SIZE, epoch = NUM_EPOCH):\n",
        "    \n",
        "    self.batch_size = batch_size\n",
        "    self.epoch = epoch\n",
        "    \n",
        "    self.network = Neural_Network()\n",
        "    self.network.build_network(learning_rate=0.001)\n",
        "    self.data = Data(train_X, train_Y, self.batch_size)\n",
        "    self.test_X = test_X\n",
        "    self.test_Y = test_Y\n",
        "  \n",
        "  def run_training(self):\n",
        "    init = tf.initialize_all_variables()\n",
        "    \n",
        "    with tf.Session() as sess:\n",
        "      \n",
        "      sess.run(init)\n",
        "      \n",
        "      training_loss = []\n",
        "      counter, tmp_loss = 0, 0\n",
        "      \n",
        "      for i in range(self.epoch):\n",
        "        \n",
        "        for x, y in self.data.generate_batch():\n",
        "          \n",
        "          feed_dict = {self.network.train_X:x, self.network.train_Y:y}\n",
        "        \n",
        "          _, loss = sess.run([self.network.train_step, self.network.loss], \n",
        "                             feed_dict=feed_dict)\n",
        "          \n",
        "          if counter % 100 == 0 and counter!=0:\n",
        "            training_loss.append(tmp_loss/100)\n",
        "            tmp_loss = 0\n",
        "          else:\n",
        "            tmp_loss += loss\n",
        "            \n",
        "          counter += 1\n",
        "          \n",
        "        print(\"Epoch {0}, loss is {1}\".format(i, loss))\n",
        "        \n",
        "        \n",
        "        \n",
        "      self.training_loss = training_loss\n",
        "      acc = sess.run([self.network.accuracy], feed_dict={self.network.train_X:self.test_X,\n",
        "                                                        self.network.train_Y:self.test_Y})\n",
        "      print(\"The testing accuracy is {0}\".format(acc))\n",
        "      \n",
        "  def plot_training_loss(self):\n",
        "    plt.plot(self.training_loss)"
      ],
      "execution_count": 0,
      "outputs": []
    },
    {
      "metadata": {
        "id": "OLjwlOGDG9RW",
        "colab_type": "code",
        "colab": {
          "autoexec": {
            "startup": false,
            "wait_interval": 0
          },
          "output_extras": [
            {
              "item_id": 37
            },
            {
              "item_id": 51
            },
            {
              "item_id": 52
            }
          ],
          "base_uri": "https://localhost:8080/",
          "height": 1982
        },
        "outputId": "e63d63e1-10be-4fe1-ae80-1cb8124fd49d",
        "executionInfo": {
          "status": "ok",
          "timestamp": 1517963645269,
          "user_tz": 300,
          "elapsed": 45697,
          "user": {
            "displayName": "Botao Deng",
            "photoUrl": "//lh4.googleusercontent.com/-e7SiulTUtZ4/AAAAAAAAAAI/AAAAAAAAAVU/sMRkL4UGYyE/s50-c-k-no/photo.jpg",
            "userId": "112553689025425246876"
          }
        }
      },
      "cell_type": "code",
      "source": [
        "tf.reset_default_graph()\n",
        "\n",
        "learner = Learn(train, Y_train, test, Y_test, epoch=NUM_EPOCH)\n",
        "learner.run_training()\n",
        "learner.plot_training_loss()"
      ],
      "execution_count": 186,
      "outputs": [
        {
          "output_type": "stream",
          "text": [
            "Epoch 0, loss is 0.04274725168943405\n",
            "Epoch 1, loss is 0.014772896654903889\n",
            "Epoch 2, loss is 0.024817435070872307\n",
            "Epoch 3, loss is 0.015166966244578362\n",
            "Epoch 4, loss is 0.010252430103719234\n",
            "Epoch 5, loss is 0.020412592217326164\n",
            "Epoch 6, loss is 0.011007190681993961\n",
            "Epoch 7, loss is 0.00807555764913559\n",
            "Epoch 8, loss is 0.00535543542355299\n",
            "Epoch 9, loss is 0.005216964054852724\n",
            "Epoch 10, loss is 0.006236440036445856\n",
            "Epoch 11, loss is 0.004788061138242483\n",
            "Epoch 12, loss is 0.010969987139105797\n",
            "Epoch 13, loss is 0.013738912530243397\n",
            "Epoch 14, loss is 0.006589491385966539\n",
            "Epoch 15, loss is 0.009455681778490543\n",
            "Epoch 16, loss is 0.00981119740754366\n",
            "Epoch 17, loss is 0.019594501703977585\n",
            "Epoch 18, loss is 0.016192784532904625\n",
            "Epoch 19, loss is 0.023676488548517227\n",
            "Epoch 20, loss is 0.002159376861527562\n",
            "Epoch 21, loss is 0.001554011134430766\n",
            "Epoch 22, loss is 0.0019703134894371033\n",
            "Epoch 23, loss is 0.0019959122873842716\n",
            "Epoch 24, loss is 0.001144260517321527\n",
            "Epoch 25, loss is 0.001936096465215087\n",
            "Epoch 26, loss is 0.38162222504615784\n",
            "Epoch 27, loss is 0.22184106707572937\n",
            "Epoch 28, loss is 0.0027386932633817196\n",
            "Epoch 29, loss is 0.018391240388154984\n",
            "Epoch 30, loss is 0.005685670301318169\n",
            "Epoch 31, loss is 0.004090187139809132\n",
            "Epoch 32, loss is 0.0034898745361715555\n",
            "Epoch 33, loss is 0.001744067994877696\n",
            "Epoch 34, loss is 0.0031017977744340897\n",
            "Epoch 35, loss is 0.001880713738501072\n",
            "Epoch 36, loss is 0.0018537521827965975\n",
            "Epoch 37, loss is 0.002440432319417596\n",
            "Epoch 38, loss is 0.001597515307366848\n",
            "Epoch 39, loss is 0.007445549126714468\n",
            "Epoch 40, loss is 0.00647989846765995\n",
            "Epoch 41, loss is 0.008683713153004646\n",
            "Epoch 42, loss is 0.008357284590601921\n",
            "Epoch 43, loss is 0.005171588622033596\n",
            "Epoch 44, loss is 0.012530514970421791\n",
            "Epoch 45, loss is 0.0049709752202034\n",
            "Epoch 46, loss is 0.035931576043367386\n",
            "Epoch 47, loss is 0.03866034001111984\n",
            "Epoch 48, loss is 0.0009179603075608611\n",
            "Epoch 49, loss is 0.01115827914327383\n",
            "Epoch 50, loss is 0.018208758905529976\n",
            "Epoch 51, loss is 0.0048293666914105415\n",
            "Epoch 52, loss is 0.006022407673299313\n",
            "Epoch 53, loss is 0.007196350488811731\n",
            "Epoch 54, loss is 0.002973560243844986\n",
            "Epoch 55, loss is 0.003766116686165333\n",
            "Epoch 56, loss is 0.03451807051897049\n",
            "Epoch 57, loss is 0.002717633731663227\n",
            "Epoch 58, loss is 0.002472774125635624\n",
            "Epoch 59, loss is 0.011871479451656342\n",
            "Epoch 60, loss is 0.003603847697377205\n",
            "Epoch 61, loss is 0.007665983401238918\n",
            "Epoch 62, loss is 0.0018443455919623375\n",
            "Epoch 63, loss is 0.000817112042568624\n",
            "Epoch 64, loss is 0.002066663233563304\n",
            "Epoch 65, loss is 0.0038049989379942417\n",
            "Epoch 66, loss is 0.0047019533812999725\n",
            "Epoch 67, loss is 0.005398185923695564\n",
            "Epoch 68, loss is 0.0005364991957321763\n",
            "Epoch 69, loss is 0.001995599828660488\n",
            "Epoch 70, loss is 0.001584912883117795\n"
          ],
          "name": "stdout"
        },
        {
          "output_type": "stream",
          "text": [
            "Epoch 71, loss is 0.0013062726939097047\n",
            "Epoch 72, loss is 0.004179016221314669\n",
            "Epoch 73, loss is 0.0013593996409326792\n",
            "Epoch 74, loss is 0.0022848444059491158\n",
            "Epoch 75, loss is 0.005721396300941706\n",
            "Epoch 76, loss is 0.004467704799026251\n",
            "Epoch 77, loss is 0.0030231191776692867\n",
            "Epoch 78, loss is 0.06440088152885437\n",
            "Epoch 79, loss is 0.004833477083593607\n",
            "Epoch 80, loss is 0.0009715980850160122\n",
            "Epoch 81, loss is 0.0036467646714299917\n",
            "Epoch 82, loss is 0.002790809143334627\n",
            "Epoch 83, loss is 0.003491627750918269\n",
            "Epoch 84, loss is 0.004027544055134058\n",
            "Epoch 85, loss is 0.0028718665707856417\n",
            "Epoch 86, loss is 0.006469701416790485\n",
            "Epoch 87, loss is 0.013829212635755539\n",
            "Epoch 88, loss is 0.0026772317942231894\n",
            "Epoch 89, loss is 0.0006333438213914633\n",
            "Epoch 90, loss is 0.0024947889614850283\n",
            "Epoch 91, loss is 0.0013173514744266868\n",
            "Epoch 92, loss is 0.0031941935885697603\n",
            "Epoch 93, loss is 0.002052722964435816\n",
            "Epoch 94, loss is 0.011920716613531113\n",
            "Epoch 95, loss is 0.0314619354903698\n",
            "Epoch 96, loss is 0.010986756533384323\n",
            "Epoch 97, loss is 0.0006729847518727183\n",
            "Epoch 98, loss is 0.05489938333630562\n",
            "Epoch 99, loss is 0.0009559231111779809\n",
            "The testing accuracy is [0.9446895]\n"
          ],
          "name": "stdout"
        },
        {
          "output_type": "display_data",
          "data": {
            "image/png": "[encoded data removed]",
            "text/plain": [
              "<matplotlib.figure.Figure at 0x7fdd31103b70>"
            ]
          },
          "metadata": {
            "tags": []
          }
        }
      ]
    },
    {
      "metadata": {
        "id": "ke7Xw7WnHOuN",
        "colab_type": "code",
        "colab": {
          "autoexec": {
            "startup": false,
            "wait_interval": 0
          }
        }
      },
      "cell_type": "code",
      "source": [
        ""
      ],
      "execution_count": 0,
      "outputs": []
    }
  ]
}